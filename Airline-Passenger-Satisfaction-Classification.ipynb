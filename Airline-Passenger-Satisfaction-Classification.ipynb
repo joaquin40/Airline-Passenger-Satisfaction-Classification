{
 "cells": [
  {
   "cell_type": "code",
   "execution_count": null,
   "id": "a8e46bad",
   "metadata": {},
   "outputs": [],
   "source": [
    "from xml.etree.ElementTree import PI\n",
    "import pandas as pd\n",
    "import numpy as np\n",
    "import missingno as msno # missing values plot\n",
    "import seaborn as sns # missing plot\n",
    "import matplotlib.pyplot as plt\n",
    "\n",
    "from sklearn.impute import KNNImputer\n",
    "from sklearn.model_selection import train_test_split , cross_val_score, GridSearchCV, KFold # train-test split, cross validation\n",
    "from sklearn.neighbors import KNeighborsClassifier # knn model\n",
    "from sklearn.preprocessing import OneHotEncoder, StandardScaler # pre-processing\n",
    "from sklearn.pipeline import Pipeline # pipeline is to assemble several steps that can be cross-validated together while setting different parameters.\n",
    "from sklearn.metrics import classification_report, confusion_matrix, accuracy_score, recall_score, precision_score, f1_score, jaccard_score"
   ]
  },
  {
   "cell_type": "code",
   "execution_count": null,
   "id": "3f3ff55b",
   "metadata": {},
   "outputs": [],
   "source": [
    "# airline training dataset\n",
    "df = pd.DataFrame(pd.read_csv(\"./data/train.csv\"))\n",
    "\n",
    "# summary statistics\n",
    "summary = df.describe()\n",
    "print(summary)\n",
    "\n",
    "print(\"dimensions:\", df.shape)"
   ]
  },
  {
   "cell_type": "code",
   "execution_count": null,
   "id": "a8a9e210",
   "metadata": {},
   "outputs": [],
   "source": [
    "# rename columns variables\n",
    "df.columns = df.columns.str.replace(' ', '_')\n",
    "df.columns = df.columns.str.replace('/', '_')\n",
    "\n",
    "# drop variables \n",
    "df1 = df.drop([\"id_1\",\"id\"], axis=1)\n",
    "\n",
    "print(df1.shape)"
   ]
  },
  {
   "cell_type": "code",
   "execution_count": null,
   "id": "1040737d",
   "metadata": {},
   "outputs": [],
   "source": [
    "# plot missing NA values\n",
    "sns.heatmap(df1.isna(), cbar=False)\n",
    "#plt.show()\n",
    "\n",
    "# check for NA values\n",
    "na_count = df1.isna().sum()\n",
    "print(na_count)\n",
    "# percentage\n",
    "na_count_ = df1.isna().sum() / df1.shape[0]\n",
    "print(na_count_)"
   ]
  },
  {
   "cell_type": "code",
   "execution_count": null,
   "id": "2e9eacf3",
   "metadata": {},
   "outputs": [],
   "source": [
    "# one hot-encoder\n",
    "encoder = OneHotEncoder(sparse_output=False)\n",
    "df1_encod= pd.DataFrame(encoder.fit_transform(df1[['Gender', 'Customer_Type', 'Type_of_Travel','Class']]),\n",
    "                         columns=encoder.get_feature_names_out(['Gender', 'Customer_Type', 'Type_of_Travel','Class'])).reset_index(drop=True)\n",
    "\n",
    "df2 = df1.drop(['Gender', 'Customer_Type', 'Type_of_Travel','Class'], axis=1).reset_index(drop=True)\n",
    "\n",
    "# combine dataset with one hot-encoder\n",
    "df3 = pd.concat([df1_encod, df2], axis=1, ignore_index=True)\n",
    "\n",
    "# combine the colnames of each dateset\n",
    "cols = list(df1_encod.columns) + list(df2.columns)\n",
    "\n",
    "# rename dataset columns\n",
    "df3.columns = cols"
   ]
  },
  {
   "cell_type": "code",
   "execution_count": null,
   "id": "cffd990f",
   "metadata": {},
   "outputs": [],
   "source": [
    "# convert response to 1 or 0\n",
    "def is_satisfied(satisfaction):\n",
    "    if satisfaction == \"satisfied\":\n",
    "        return 1\n",
    "    else:\n",
    "        return 0\n",
    "\n",
    "\n",
    "df3['is_satisfied'] = df3['satisfaction'].apply(is_satisfied)\n",
    "\n",
    "df4 = df3.drop(['satisfaction'], axis = 1)\n"
   ]
  },
  {
   "cell_type": "code",
   "execution_count": null,
   "id": "431ed8fc",
   "metadata": {},
   "outputs": [],
   "source": [
    "# KNN model for NA value\n",
    "imputer = KNNImputer(n_neighbors = 5)\n",
    "df4_imputed = pd.DataFrame(imputer.fit_transform(df4),columns=df4.columns)\n",
    "#print(df.columns)\n",
    "\n",
    "\n",
    "# check for NA values\n",
    "na_count = df4_imputed.isna().sum()\n",
    "print(na_count)\n",
    "\n",
    "# convert data type\n",
    "df4_imputed['is_satisfied'] = df4_imputed['is_satisfied'].astype(int)\n",
    "print(df4_imputed['is_satisfied'].head())\n"
   ]
  },
  {
   "cell_type": "code",
   "execution_count": null,
   "id": "d9f0f4c6",
   "metadata": {},
   "outputs": [],
   "source": [
    "# seperate predictors and response\n",
    "x = df4_imputed.drop('is_satisfied', axis=1)\n",
    "y = df4_imputed['is_satisfied']"
   ]
  },
  {
   "cell_type": "code",
   "execution_count": null,
   "id": "8304f1e0",
   "metadata": {},
   "outputs": [],
   "source": [
    "from sklearn.pipeline import Pipeline\n",
    "from sklearn.preprocessing import StandardScaler\n",
    "from sklearn.neighbors import KNeighborsClassifier\n",
    "from sklearn.model_selection import GridSearchCV\n",
    "from sklearn.metrics import classification_report, balanced_accuracy_score\n",
    "\n",
    "# decision tree, Boosting and Random Forest Model\n",
    "from sklearn.ensemble import BaggingClassifier, RandomForestClassifier\n",
    "from sklearn.tree import DecisionTreeClassifier\n",
    "from sklearn.model_selection import GridSearchCV\n"
   ]
  },
  {
   "cell_type": "code",
   "execution_count": null,
   "id": "b1736aea",
   "metadata": {},
   "outputs": [],
   "source": [
    "# decision tree model \n",
    "tree_pipeline = Pipeline([\n",
    "    ('scaler', StandardScaler()),\n",
    "    ('tree', DecisionTreeClassifier())\n",
    "], verbose=True)\n",
    "\n",
    "tree_param = {\n",
    "    'tree__criterion': ['gini', 'entropy'],\n",
    "    'tree__max_depth': [3, 5, 10, None],\n",
    "    'tree__min_samples_split': [2, 5, 10],\n",
    "    'tree__min_samples_leaf': [1, 2, 4]\n",
    "}"
   ]
  },
  {
   "cell_type": "code",
   "execution_count": null,
   "id": "d1857f87",
   "metadata": {},
   "outputs": [],
   "source": [
    "# tune parameters, fit model on traning set for prediction \n",
    "tree_cv = GridSearchCV(tree_pipeline, tree_param, cv = 10, scoring = 'accuracy', n_jobs=-1)\n",
    "tree_cv.fit(x, y)"
   ]
  },
  {
   "cell_type": "code",
   "execution_count": null,
   "id": "9223cd71",
   "metadata": {
    "scrolled": true
   },
   "outputs": [],
   "source": [
    "# obtain the estimators\n",
    "tree_best =  tree_cv.best_estimator_.named_steps['tree']\n",
    "\n",
    "# obtain the predictors \n",
    "tree_importances = tree_best.feature_importances_\n",
    "print(tree_importances)"
   ]
  },
  {
   "cell_type": "code",
   "execution_count": null,
   "id": "fa7be83b",
   "metadata": {},
   "outputs": [],
   "source": [
    "# increase in gini index\n",
    "variables_names = x.columns.str.replace(\"_\", \" \")\n",
    "\n",
    "\n",
    "var_imp_tree = pd.DataFrame({'Predictors':variables_names, 'gini':tree_importances})\n",
    "var_imp_tree_sorted = var_imp_tree.sort_values(by = 'gini', ascending=False)\n",
    "print(\"Top 5 important predictors for bagging trees model\")\n",
    "print(var_imp_tree_sorted.head(5))"
   ]
  },
  {
   "cell_type": "code",
   "execution_count": null,
   "id": "dfb33eab",
   "metadata": {},
   "outputs": [],
   "source": [
    "# chart of the important variables\n",
    "importances = pd.Series(tree_importances, index=variables_names) # series - one dimension array\n",
    "top_n = 10\n",
    "top_n_idx = importances.argsort()[-top_n:] # know which features have the highest and lowest importance values\n",
    "top_n_importances = importances.iloc[top_n_idx] # nteger-location\n",
    "top_n_importances.plot(kind='barh', color='b')\n",
    "plt.xlabel('Average Gini Decrease')\n",
    "plt.title(f'Top {top_n} Important Features: Decision Tree Model')"
   ]
  },
  {
   "cell_type": "code",
   "execution_count": null,
   "id": "06fc1b0c",
   "metadata": {},
   "outputs": [],
   "source": [
    "var_imp_tree_sorted.head(10).sort_values(by = 'gini').plot(x = 'Predictors', y = 'gini', kind = 'barh', label = '')\n",
    "plt.legend('')\n",
    "plt.xlabel('Average Gini Decrease')\n",
    "plt.title(f'Top {top_n} Important Features: Decision Tree Model')\n",
    "plt.ylabel('')"
   ]
  },
  {
   "cell_type": "code",
   "execution_count": null,
   "id": "a17016ae",
   "metadata": {},
   "outputs": [],
   "source": [
    "# bagging trees model\n",
    "bagging_pipeline = Pipeline([\n",
    "    ('scaler', StandardScaler()),\n",
    "    ('bagging', BaggingClassifier(estimator=DecisionTreeClassifier()))\n",
    "], verbose = True)\n",
    "\n",
    "\n",
    "# parameters bagging\n",
    "bagging_params = {\n",
    "    'bagging__n_estimators': [10, 50, 100, 500],\n",
    "}\n",
    "\n",
    "# random forest model pipeline\n",
    "rf_pipeline = Pipeline([\n",
    "    ('scaler', StandardScaler()),\n",
    "    ('rf', RandomForestClassifier())\n",
    "], verbose=True)\n",
    "\n",
    "# rf parameters\n",
    "rf_param = {\n",
    "    'rf__n_estimators': [10, 50, 100,500],\n",
    "    'rf__max_depth': [None, 5, 10],\n",
    "}\n",
    "\n",
    "#bagging__max_samples - controls the maximum number of samples to draw from the dataset for each base estimator it is a fraction between 0 and 1\n",
    "# rf_ma_depth - control maximum depth of each decision tree (the number of levels iof trees)"
   ]
  },
  {
   "cell_type": "code",
   "execution_count": null,
   "id": "bd5b4bb1",
   "metadata": {},
   "outputs": [],
   "source": [
    "#Fit bagging tree model\n",
    "bagging_cv = GridSearchCV(bagging_pipeline, param_grid = bagging_params, cv = 10, scoring = 'accuracy', n_jobs=-1)# ,'f1'])\n",
    "bagging_cv.fit(x, y)"
   ]
  },
  {
   "cell_type": "code",
   "execution_count": null,
   "id": "2d92c5af",
   "metadata": {},
   "outputs": [],
   "source": [
    "# obtain the estimators\n",
    "bagging_best =  bagging_cv.best_estimator_.named_steps['bagging']"
   ]
  },
  {
   "cell_type": "code",
   "execution_count": null,
   "id": "beeb8bcf",
   "metadata": {},
   "outputs": [],
   "source": [
    "# obtain the predictors \n",
    "bagging_importances = bagging_best.estimators_[0].feature_importances_\n",
    "print(bagging_importances)"
   ]
  },
  {
   "cell_type": "code",
   "execution_count": null,
   "id": "e9b23062",
   "metadata": {},
   "outputs": [],
   "source": [
    "# %IncMSE/gini percent increase of MSE \n",
    "# estimate the importance of each predictor\n",
    "# by looking at the increase MSE\n",
    "# when the predictor variable is removed from the model\n",
    "variables_names = x.columns.str.replace(\"_\", \" \")\n",
    "\n",
    "\n",
    "var_imp_bagg = pd.DataFrame({'Predictors':variables_names, 'gini':bagging_importances})\n",
    "var_imp_bagg_sorted = var_imp_bagg.sort_values(by = 'gini', ascending=False)\n",
    "print(\"Top 5 important predictors for bagging trees model\")\n",
    "print(var_imp_bagg_sorted.head(5))"
   ]
  },
  {
   "cell_type": "code",
   "execution_count": null,
   "id": "d5ab568c",
   "metadata": {},
   "outputs": [],
   "source": [
    "# chart of the important variables\n",
    "importances = pd.Series(bagging_importances, index=variables_names) # series - one dimension array\n",
    "top_n = 10\n",
    "top_n_idx = importances.argsort()[-top_n:] # know which features have the highest and lowest importance values\n",
    "top_n_importances = importances.iloc[top_n_idx] # nteger-location based indexing of a dataframe or a series\n",
    "top_n_importances.plot(kind='barh', color='b') # bar chart\n",
    "plt.xlabel('Average Gini Decrease')\n",
    "plt.title(f'Top {top_n} Important Features: Bagging Decision Tree')"
   ]
  },
  {
   "cell_type": "code",
   "execution_count": null,
   "id": "86437016",
   "metadata": {},
   "outputs": [],
   "source": [
    "#Random forest model\n",
    "rf_cv = GridSearchCV(rf_pipeline, param_grid= rf_param, cv = 10, scoring = 'accuracy', n_jobs=-1)\n",
    "rf_cv.fit(x, y)\n"
   ]
  },
  {
   "cell_type": "code",
   "execution_count": null,
   "id": "256df200",
   "metadata": {},
   "outputs": [],
   "source": [
    "#calculate important predictors\n",
    "\n",
    "# obtain the estimators\n",
    "rf_best =  rf_cv.best_estimator_.named_steps['rf']"
   ]
  },
  {
   "cell_type": "code",
   "execution_count": null,
   "id": "7a2a68ab",
   "metadata": {},
   "outputs": [],
   "source": [
    "# obtain the predictors %incmse for RF\n",
    "rf_importances = rf_best.estimators_[0].feature_importances_\n",
    "print(rf_importances)"
   ]
  },
  {
   "cell_type": "code",
   "execution_count": null,
   "id": "e15d50a1",
   "metadata": {},
   "outputs": [],
   "source": [
    "# top five important variables using %IncMSE\n",
    "variables_names = x.columns.str.replace(\"_\", \" \")\n",
    "\n",
    "\n",
    "var_imp_rf = pd.DataFrame({'Predictors':variables_names, 'gini':rf_importances})\n",
    "var_imp_rf_sorted = var_imp_rf.sort_values(by = 'gini', ascending=False)\n",
    "print(\"Top 5 important predictors for Random Forest trees model\")\n",
    "print(var_imp_rf_sorted.head(5))"
   ]
  },
  {
   "cell_type": "code",
   "execution_count": null,
   "id": "ab326531",
   "metadata": {},
   "outputs": [],
   "source": [
    "importances = pd.Series(rf_importances, index=variables_names) # series - one dimension array\n",
    "top_n = 10\n",
    "top_n_idx = importances.argsort()[-top_n:] # know which features have the highest and lowest importance values\n",
    "top_n_importances = importances.iloc[top_n_idx] # nteger-location based indexing of a dataframe or a series\n",
    "top_n_importances.plot(kind='barh', color='b') # bar chart\n",
    "plt.xlabel('Average Gini Decrease')\n",
    "plt.title(f'Top {top_n} Important Features: Random Forest')"
   ]
  },
  {
   "cell_type": "code",
   "execution_count": null,
   "id": "f346dbe2",
   "metadata": {},
   "outputs": [],
   "source": [
    "#boosting\n",
    "from sklearn.ensemble import GradientBoostingClassifier\n",
    "\n",
    "# boosting - GradientBoostingClassifier default trees\n",
    "boost_tree_pipeline =  Pipeline([\n",
    "    ('scaler', StandardScaler()),\n",
    "   ('gbt', GradientBoostingClassifier())\n",
    "], verbose = True)"
   ]
  },
  {
   "cell_type": "code",
   "execution_count": null,
   "id": "c4dea94a",
   "metadata": {},
   "outputs": [],
   "source": [
    "# parameters\n",
    "boost_tree_param =  {\n",
    "   'gbt__learning_rate': [0.1, 0.05, 0.01],\n",
    "    'gbt__n_estimators': [50, 100, 200],\n",
    "    'gbt__max_depth': [3, 4, 5]\n",
    "}\n",
    "\n",
    "#n_estimators: number of decision trees to include in the ensemble.\n",
    "#learning_rate: the learning rate shrinks the contribution of each tree by learning_rate amount.\n",
    "#max_depth: the maximum depth of the decision trees.\n",
    "#max_features: the number of features to consider when looking for the best split. \n",
    "#subsample: the fraction of samples to be used for fitting the individual base learners. Values lower than 1.0 would make the algorithm stochastic."
   ]
  },
  {
   "cell_type": "code",
   "execution_count": null,
   "id": "da2a1b17",
   "metadata": {},
   "outputs": [],
   "source": [
    "# fit model & cross validation k-fold\n",
    "boosting_tree_cv = GridSearchCV(boost_tree_pipeline, param_grid=boost_tree_param, cv = 10, scoring = 'accuracy', n_jobs=-1)\n",
    "boosting_tree_cv.fit(x, y)\n"
   ]
  },
  {
   "cell_type": "code",
   "execution_count": null,
   "id": "311a85a2",
   "metadata": {
    "scrolled": true
   },
   "outputs": [],
   "source": [
    "#calculate important predictors\n",
    "\n",
    "# obtain the estimators\n",
    "boosting_best =  boosting_tree_cv.best_estimator_.named_steps['gbt']\n",
    "\n",
    "# obtain the predictors %incmse for RF\n",
    "boosting_importances = boosting_best.feature_importances_\n",
    "print(boosting_importances)"
   ]
  },
  {
   "cell_type": "code",
   "execution_count": null,
   "id": "4787492c",
   "metadata": {},
   "outputs": [],
   "source": [
    "# top five important variables using %IncMSE\n",
    "variables_names = x.columns.str.replace(\"_\", \" \")\n",
    "\n",
    "\n",
    "var_imp_boost = pd.DataFrame({'Predictors':variables_names, 'gini':boosting_importances})\n",
    "var_imp_boost_sorted = var_imp_boost.sort_values(by = 'gini', ascending=False)\n",
    "print(\"Top 5 important predictors for bagging trees model\")\n",
    "print(var_imp_boost_sorted.head(5))"
   ]
  },
  {
   "cell_type": "code",
   "execution_count": null,
   "id": "8275df8e",
   "metadata": {},
   "outputs": [],
   "source": [
    "importances = pd.Series(boosting_importances, index=variables_names) # series - one dimension array\n",
    "top_n = 10\n",
    "top_n_idx = importances.argsort()[-top_n:] # know which features have the highest and lowest importance values\n",
    "top_n_importances = importances.iloc[top_n_idx] # nteger-location based indexing of a dataframe or a series\n",
    "top_n_importances.plot(kind='barh', color='b') # bar chart\n",
    "plt.xlabel('Average Gini Decrease')\n",
    "plt.title(f'Top {top_n} Important Features: Boosting Decision Tree')"
   ]
  },
  {
   "cell_type": "code",
   "execution_count": null,
   "id": "5c0059d6",
   "metadata": {},
   "outputs": [],
   "source": [
    "# logistic Lasso regression\n",
    "from sklearn.linear_model import LogisticRegression\n",
    "\n",
    "#logistic\n",
    "logistic_pipe = Pipeline([\n",
    "    ('scaler', StandardScaler()),\n",
    "    ('log', LogisticRegression(penalty= 'l1',  solver='saga', max_iter = 2000))\n",
    "], verbose = True) \n",
    "\n",
    "# hyperparameters \n",
    "param_grid = {\n",
    "    'log__class_weight': [None, 'balanced']\n",
    "}\n",
    "\n"
   ]
  },
  {
   "cell_type": "code",
   "execution_count": null,
   "id": "22baadf8",
   "metadata": {},
   "outputs": [],
   "source": [
    "# fit logistic lasso regression\n",
    "logistic_cv = GridSearchCV(logistic_pipe, param_grid, cv=10, scoring='accuracy', n_jobs = -1)\n",
    "logistic_cv.fit(x, y)\n"
   ]
  },
  {
   "cell_type": "code",
   "execution_count": null,
   "id": "94c96963",
   "metadata": {},
   "outputs": [],
   "source": [
    "# Fit grid search object to the data\n",
    "log_best_params = logistic_cv.best_params_\n",
    "print(log_best_params)"
   ]
  },
  {
   "cell_type": "code",
   "execution_count": null,
   "id": "effb4900",
   "metadata": {},
   "outputs": [],
   "source": [
    "# coefficient interms of log-odds and odds\n",
    "from tabulate import tabulate\n",
    "\n",
    "coeff = logistic_cv.best_estimator_.named_steps['log'].coef_\n",
    "\n",
    "coef_df = pd.DataFrame({'Variable': x.columns.str.replace(\"_\", \" \"),\n",
    "                        'Log-Odds Coefficient': coeff[0],\n",
    "                        'Odds Ratio coefficient': np.exp(coeff[0]) })\n",
    "\n",
    "\n",
    "print(tabulate(coef_df.sort_values('Odds Ratio coefficient', ascending= False), headers='keys', tablefmt='psql'))"
   ]
  },
  {
   "cell_type": "code",
   "execution_count": null,
   "id": "f3410916",
   "metadata": {},
   "outputs": [],
   "source": [
    "# random sample for prediction analysis\n",
    "df5 = df4_imputed.sample(n= 20000, random_state=1)\n",
    "\n",
    "# seperate predictors and response\n",
    "x = df5.drop('is_satisfied', axis=1)\n",
    "y = df5['is_satisfied']\n"
   ]
  },
  {
   "cell_type": "code",
   "execution_count": null,
   "id": "9c85bfe1",
   "metadata": {},
   "outputs": [],
   "source": [
    "# 70/30 split training/test\n",
    "x_train, x_test, y_train, y_test = train_test_split(x, y, test_size=.3, random_state=1)"
   ]
  },
  {
   "cell_type": "code",
   "execution_count": null,
   "id": "3ff260a5",
   "metadata": {},
   "outputs": [],
   "source": [
    "pipeline = Pipeline([\n",
    "    ('scaler', StandardScaler()),\n",
    "    ('knn', KNeighborsClassifier())\n",
    "])\n",
    "\n",
    "k_val = list(range(1,40))\n",
    "k_scores = []\n",
    "\n",
    "for k in k_val:\n",
    "    pipeline.set_params(knn__n_neighbors=k)\n",
    "    scores = cross_val_score(pipeline, x_train, y_train, cv = 10, scoring = 'accuracy')\n",
    "    k_scores.append(scores.mean())\n",
    "\n",
    "\n",
    "# optimal k values for neighbors knn model \n",
    "opt_k = k_val[k_scores.index(max(k_scores))]\n",
    "print(f\"optimal k value:  {opt_k}\")"
   ]
  },
  {
   "cell_type": "code",
   "execution_count": null,
   "id": "a910e196",
   "metadata": {},
   "outputs": [],
   "source": [
    "# create pipeline for knn \n",
    "knn_pipeline = Pipeline([\n",
    "    #('scaler', StandardScaler()),\n",
    "    ('knn', KNeighborsClassifier())\n",
    "])\n",
    "\n",
    "knn_parameter = {\n",
    "    \"knn__n_neighbors\" : range(3,30)\n",
    "}\n",
    "\n",
    "# cross validation\n",
    "knn_cv = GridSearchCV(knn_pipeline, param_grid = knn_parameter, cv = 10, n_jobs=-1, scoring='accuracy')# ,'f1'])\n",
    "knn_cv.fit(x_train, y_train)\n",
    "knn_cv.best_estimator_\n",
    "#knn_cv.cv_results_"
   ]
  },
  {
   "cell_type": "code",
   "execution_count": null,
   "id": "967ba425",
   "metadata": {},
   "outputs": [],
   "source": [
    "# fit knn model to full dataset with k =9\n",
    "pipeline.set_params(knn__n_neighbors=opt_k)\n",
    "pipeline.fit(x_train, y_train)"
   ]
  },
  {
   "cell_type": "code",
   "execution_count": null,
   "id": "52366a54",
   "metadata": {},
   "outputs": [],
   "source": [
    "# predictions\n",
    "pred_knn = knn_cv.predict(x_test)\n",
    "\n",
    "# confusion matrix\n",
    "knn_cm = confusion_matrix(y_test, pred_knn)\n",
    "print(knn_cm)\n",
    "print(pd.crosstab(y_test, pred_knn, rownames=['True'], colnames=['Predicted'], margins=True))\n",
    "\n",
    "sns.heatmap(knn_cm, annot=True, fmt='g', cmap='Blues')\n",
    "plt.xlabel('Predicted')\n",
    "plt.ylabel('True')\n",
    "#plt.show()\n",
    "\n",
    "#  confusion matrix\n",
    "report = classification_report(y_test, pred_knn)\n",
    "\n",
    "# Print the report\n",
    "print(report)\n",
    "knn_accuracy = accuracy_score(y_test, pred_knn).round(2)\n",
    "knn_precision = precision_score(y_test, pred_knn).round(2)\n",
    "knn_recall = recall_score(y_test, pred_knn).round(2)\n",
    "knn_f1 = f1_score(y_test, pred_knn).round(2)\n",
    "knn_balanced_acc = balanced_accuracy_score(y_test, pred_knn). round(2)\n",
    "\n",
    "print(f\"knn model (k = {opt_k}): accuracy: {knn_accuracy}, precision: {knn_precision}, recal: {knn_recall}, f1 score: {knn_f1}\", 'Balanced Accuracy: ' {knn_balanced_acc})"
   ]
  },
  {
   "cell_type": "code",
   "execution_count": null,
   "id": "6402ad10",
   "metadata": {},
   "outputs": [],
   "source": [
    "# decision tree model\n",
    "# tune parameters, fit model on traning set for prediction \n",
    "tree_cv = GridSearchCV(tree_pipeline, tree_param, cv = 10, scoring = 'accuracy', n_jobs=-1)\n",
    "tree_cv.fit(x_train, y_train)"
   ]
  },
  {
   "cell_type": "code",
   "execution_count": null,
   "id": "84fa51d4",
   "metadata": {},
   "outputs": [],
   "source": [
    "#predictions on test set\n",
    "tree_cv.best_estimator_\n",
    "\n",
    "tree_pred = tree_cv.predict(x_test)"
   ]
  },
  {
   "cell_type": "code",
   "execution_count": null,
   "id": "fa222150",
   "metadata": {},
   "outputs": [],
   "source": [
    "# confusion matrix\n",
    "print(pd.crosstab(y_test, tree_pred, rownames=['True'], colnames=['Predicted'], margins=True))"
   ]
  },
  {
   "cell_type": "code",
   "execution_count": null,
   "id": "68442d05",
   "metadata": {},
   "outputs": [],
   "source": [
    "# heatmap of results\n",
    "\n",
    "tree_cm = confusion_matrix(y_test, tree_pred)\n",
    "sns.heatmap(tree_cm, annot=True, fmt='g', cmap='Blues')\n",
    "plt.xlabel('Predicted')\n",
    "plt.ylabel('True')\n",
    "plt.show()\n"
   ]
  },
  {
   "cell_type": "code",
   "execution_count": null,
   "id": "cdff1543",
   "metadata": {},
   "outputs": [],
   "source": [
    "#  confusion matrix\n",
    "report = classification_report(y_test, tree_pred)\n",
    "\n",
    "# Print the report\n",
    "print(report)\n",
    "t_accuracy = accuracy_score(y_test, tree_pred).round(2)\n",
    "t_precision = precision_score(y_test, tree_pred).round(2)\n",
    "t_recall = recall_score(y_test, tree_pred).round(2)\n",
    "t_f1 = f1_score(y_test, tree_pred).round(2)\n",
    "t_balanced_acc = balanced_accuracy_score(y_test, tree_pred). round(2)\n",
    "\n",
    "\n",
    "print(f\"Decision tree model: accuracy: {t_accuracy}, precision: {t_precision}, recall: {t_recall}, f1 score: {t_f1}, balanced accuracy {t_balanced_acc}\")"
   ]
  },
  {
   "cell_type": "code",
   "execution_count": null,
   "id": "b598ce95",
   "metadata": {},
   "outputs": [],
   "source": [
    "# cross validation bagging model\n",
    "bagging_cv = GridSearchCV(bagging_pipeline, param_grid = bagging_params, cv = 10, scoring = 'accuracy', n_jobs=-1)# ,'f1'])\n",
    "bagging_cv.fit(x_train, y_train)\n"
   ]
  },
  {
   "cell_type": "code",
   "execution_count": null,
   "id": "8238ec40",
   "metadata": {},
   "outputs": [],
   "source": [
    "# cross validation rf model \n",
    "rf_cv = GridSearchCV(rf_pipeline, param_grid= rf_param, cv = 10, scoring = 'accuracy', n_jobs=-1)\n",
    "rf_cv.fit(x_train, y_train)\n"
   ]
  },
  {
   "cell_type": "code",
   "execution_count": null,
   "id": "10edc57c",
   "metadata": {},
   "outputs": [],
   "source": [
    "# parameters of n trees bagging\n",
    "bagging_best_params = bagging_cv.best_params_\n",
    "print(bagging_best_params)\n",
    "\n",
    "\n",
    "# parameters of rf \n",
    "rf_best_params = rf_cv.best_params_\n",
    "print(rf_best_params)\n"
   ]
  },
  {
   "cell_type": "code",
   "execution_count": null,
   "id": "afa8fbb2",
   "metadata": {},
   "outputs": [],
   "source": [
    "# prediction on test dataset using bagging model\n",
    "pred_bagging = bagging_cv.predict(x_test)"
   ]
  },
  {
   "cell_type": "code",
   "execution_count": null,
   "id": "d3d1262a",
   "metadata": {},
   "outputs": [],
   "source": [
    "bagging_cm = confusion_matrix(y_test, pred_bagging)\n",
    "print(pd.crosstab(y_test, pred_bagging, rownames=['True'], colnames=['Predicted'], margins=True))"
   ]
  },
  {
   "cell_type": "code",
   "execution_count": null,
   "id": "dfe292d2",
   "metadata": {},
   "outputs": [],
   "source": [
    "# heatmap of results\n",
    "sns.heatmap(bagging_cm, annot=True, fmt='g', cmap='Blues')\n",
    "plt.xlabel('Predicted')\n",
    "plt.ylabel('True')\n",
    "plt.show()\n"
   ]
  },
  {
   "cell_type": "code",
   "execution_count": null,
   "id": "b513e78a",
   "metadata": {},
   "outputs": [],
   "source": [
    "#  confusion matrix\n",
    "report = classification_report(y_test, pred_bagging)\n",
    "\n",
    "# Print the report\n",
    "print(report)\n",
    "bag_accuracy = accuracy_score(y_test, pred_bagging).round(2)\n",
    "bag_precision = precision_score(y_test, pred_bagging).round(2)\n",
    "bag_recall = recall_score(y_test, pred_bagging).round(2)\n",
    "bag_f1 = f1_score(y_test, pred_bagging).round(2)\n",
    "bag_balanced_acc = balanced_accuracy_score(y_test, pred_bagging). round(2)\n",
    "\n",
    "\n",
    "print(f\"Decision tree model: accuracy: {bag_accuracy}, precision: {bag_precision}, recall: {bag_recall}, f1 score: {bag_f1}, Balanced accuracy {bag_balanced_acc}\")"
   ]
  },
  {
   "cell_type": "code",
   "execution_count": null,
   "id": "a61280c4",
   "metadata": {},
   "outputs": [],
   "source": [
    "# random forest predicitons\n",
    "pred_rf = rf_cv.predict(x_test)"
   ]
  },
  {
   "cell_type": "code",
   "execution_count": null,
   "id": "3f176e37",
   "metadata": {},
   "outputs": [],
   "source": [
    "rf_cm = confusion_matrix(y_test, pred_rf)\n",
    "print(pd.crosstab(y_test, pred_rf, rownames=['True'], colnames=['Predicted'], margins=True))"
   ]
  },
  {
   "cell_type": "code",
   "execution_count": null,
   "id": "6a02a799",
   "metadata": {},
   "outputs": [],
   "source": [
    "# heatmap of results\n",
    "sns.heatmap(rf_cm, annot=True, fmt='g', cmap='Blues')\n",
    "plt.xlabel('Predicted')\n",
    "plt.ylabel('True')\n",
    "plt.show()\n"
   ]
  },
  {
   "cell_type": "code",
   "execution_count": null,
   "id": "5b9a1567",
   "metadata": {},
   "outputs": [],
   "source": [
    "#  confusion matrix\n",
    "report_rf = classification_report(y_test, pred_rf)\n",
    "\n",
    "# Print the report\n",
    "print(report_rf)\n",
    "rf_accuracy = accuracy_score(y_test, pred_rf).round(2)\n",
    "rf_precision = precision_score(y_test, pred_rf).round(2)\n",
    "rf_recall = recall_score(y_test, pred_rf).round(2)\n",
    "rf_f1 = f1_score(y_test, pred_rf).round(2)\n",
    "rf_balanced_acc = balanced_accuracy_score(y_test, pred_rf). round(2)\n",
    "\n",
    "print(f\"Decision tree model: accuracy: {rf_accuracy}, precision: {rf_precision}, recall: {rf_recall}, f1 score: {rf_f1}, Balanced accuracy {rf_balanced_acc}\")"
   ]
  },
  {
   "cell_type": "code",
   "execution_count": null,
   "id": "4299f769",
   "metadata": {
    "scrolled": true
   },
   "outputs": [],
   "source": [
    "# boosting model\n",
    "# fit model & cross validation k-fold\n",
    "boosting_tree_cv = GridSearchCV(boost_tree_pipeline, param_grid=boost_tree_param, cv = 10, scoring = 'accuracy', n_jobs=-1)\n",
    "boosting_tree_cv.fit(x_train, y_train)"
   ]
  },
  {
   "cell_type": "code",
   "execution_count": null,
   "id": "9c107e22",
   "metadata": {},
   "outputs": [],
   "source": [
    "# parameters of boosting \n",
    "boost_best_params = boosting_tree_cv.best_params_\n",
    "print(boost_best_params)\n",
    "\n",
    "#{'gbt__learning_rate': 0.1, 'gbt__max_depth': 6, 'gbt__n_estimators': 200}\n"
   ]
  },
  {
   "cell_type": "code",
   "execution_count": null,
   "id": "369c34e9",
   "metadata": {},
   "outputs": [],
   "source": [
    "# prediction on test dataset using bagging model\n",
    "pred_boosting = boosting_tree_cv.predict(x_test)"
   ]
  },
  {
   "cell_type": "code",
   "execution_count": null,
   "id": "75d70f89",
   "metadata": {},
   "outputs": [],
   "source": [
    "print(pd.crosstab(y_test, pred_boosting, rownames=['True'], colnames=['Predicted'], margins=True))"
   ]
  },
  {
   "cell_type": "code",
   "execution_count": null,
   "id": "aeec1184",
   "metadata": {},
   "outputs": [],
   "source": [
    "# heatmap of results\n",
    "boosting_cm = confusion_matrix(y_test, pred_boosting) # matrix\n",
    "\n",
    "sns.heatmap(boosting_cm, annot=True, fmt='g', cmap='Blues')\n",
    "plt.xlabel('Predicted')\n",
    "plt.ylabel('True')\n",
    "plt.show()\n"
   ]
  },
  {
   "cell_type": "code",
   "execution_count": null,
   "id": "4ab6bd5f",
   "metadata": {},
   "outputs": [],
   "source": [
    "#  confusion matrix\n",
    "report_boosting = classification_report(y_test, pred_boosting)\n",
    "\n",
    "# Print the report\n",
    "print(report_boosting)\n",
    "boost_accuracy = accuracy_score(y_test, pred_boosting).round(2)\n",
    "boost_precision = precision_score(y_test, pred_boosting).round(2)\n",
    "boost_recall = recall_score(y_test, pred_boosting).round(2)\n",
    "boost_f1 = f1_score(y_test, pred_boosting).round(2)\n",
    "boost_balanced_acc = balanced_accuracy_score(y_test, pred_boosting). round(2)\n",
    "\n",
    "\n",
    "print(f\"Decision tree model: accuracy: {boost_accuracy}, precision: {boost_precision}, recall: {boost_recall}, f1 score: {boost_f1}, Balanced accuracy {boost_balanced_acc}\")"
   ]
  },
  {
   "cell_type": "code",
   "execution_count": null,
   "id": "569cd50a",
   "metadata": {},
   "outputs": [],
   "source": [
    "# SVM\n",
    "from sklearn.svm import SVC"
   ]
  },
  {
   "cell_type": "code",
   "execution_count": null,
   "id": "d2880e9b",
   "metadata": {},
   "outputs": [],
   "source": [
    "# SVM MODEL\n",
    "svm_pipeline = Pipeline([\n",
    "    ('scaler', StandardScaler()),\n",
    "    ('svm', SVC(probability=True))\n",
    "], verbose=True)\n",
    "\n",
    "# svm parameter\n",
    "svm_grid = {\n",
    "    'svm__C': [0.1, 1, 10],\n",
    "    'svm__kernel': ['linear', 'poly','rbf'],\n",
    "    'svm__gamma': [0.1, 1, 10 ]\n",
    "}"
   ]
  },
  {
   "cell_type": "code",
   "execution_count": null,
   "id": "db8afe16",
   "metadata": {},
   "outputs": [],
   "source": [
    "# fit model & cross validation k-fold\n",
    "svm_cv = GridSearchCV(svm_pipeline, param_grid=svm_grid, cv = 10, scoring = 'accuracy', n_jobs=-1)\n",
    "svm_cv.fit(x_train, y_train)"
   ]
  },
  {
   "cell_type": "code",
   "execution_count": null,
   "id": "a8ba80bd",
   "metadata": {},
   "outputs": [],
   "source": [
    "# parameters of svm\n",
    "svm_best_params = svm_cv.best_params_\n",
    "print(svm_best_params)\n"
   ]
  },
  {
   "cell_type": "code",
   "execution_count": null,
   "id": "becbecdd",
   "metadata": {},
   "outputs": [],
   "source": [
    "# prediction on test dataset using svm model\n",
    "pred_svm = svm_cv.predict(x_test)\n"
   ]
  },
  {
   "cell_type": "code",
   "execution_count": null,
   "id": "b376ede6",
   "metadata": {},
   "outputs": [],
   "source": [
    "print(pd.crosstab(y_test, pred_svm, rownames=['True'], colnames=['Predicted'], margins=True))"
   ]
  },
  {
   "cell_type": "code",
   "execution_count": null,
   "id": "cfda0c20",
   "metadata": {},
   "outputs": [],
   "source": [
    "# heatmap of results\n",
    "svm_cm = confusion_matrix(y_test, pred_svm) # matrix\n",
    "\n",
    "sns.heatmap(svm_cm, annot=True, fmt='g', cmap='Blues')\n",
    "plt.xlabel('Predicted')\n",
    "plt.ylabel('True')\n",
    "plt.show()\n"
   ]
  },
  {
   "cell_type": "code",
   "execution_count": null,
   "id": "1774cfe1",
   "metadata": {},
   "outputs": [],
   "source": [
    "#  confusion matrix\n",
    "report_svm = classification_report(y_test, pred_svm)\n",
    "\n",
    "# Print the report\n",
    "print(report_svm)\n",
    "svm_accuracy = accuracy_score(y_test, pred_svm).round(2)\n",
    "svm_precision = precision_score(y_test, pred_svm).round(2)\n",
    "svm_recall = recall_score(y_test, pred_svm).round(2)\n",
    "svm_f1 = f1_score(y_test, pred_svm).round(2)\n",
    "svm_balanced_acc = balanced_accuracy_score(y_test, pred_svm). round(2)\n",
    "\n",
    "\n",
    "print(f\"SVM model: accuracy: {svm_accuracy}, precision: {svm_precision}, recall: {svm_recall}, f1 score: {svm_f1}, balanced accuracy {svm_balanced_acc}\")"
   ]
  },
  {
   "cell_type": "code",
   "execution_count": null,
   "id": "f68d9309",
   "metadata": {},
   "outputs": [],
   "source": [
    "# Fit grid search object to the data\n",
    "log_best_params = logistic_cv.best_params_\n",
    "print(log_best_params)\n"
   ]
  },
  {
   "cell_type": "code",
   "execution_count": null,
   "id": "ef77f5ef",
   "metadata": {},
   "outputs": [],
   "source": [
    "# predict on test set\n",
    "pred_log = logistic_cv.predict(x_test)"
   ]
  },
  {
   "cell_type": "code",
   "execution_count": null,
   "id": "844c8021",
   "metadata": {},
   "outputs": [],
   "source": [
    "print(pd.crosstab(y_test, pred_log, rownames=['True'], colnames=['Predicted'], margins=True))"
   ]
  },
  {
   "cell_type": "code",
   "execution_count": null,
   "id": "4bfc234a",
   "metadata": {},
   "outputs": [],
   "source": [
    "# heatmap of results\n",
    "log_cm = confusion_matrix(y_test, pred_log) # matrix\n",
    "\n",
    "sns.heatmap(log_cm, annot=True, fmt='g', cmap='Blues')\n",
    "plt.xlabel('Predicted')\n",
    "plt.ylabel('True')\n",
    "plt.show()\n"
   ]
  },
  {
   "cell_type": "code",
   "execution_count": null,
   "id": "6840930c",
   "metadata": {},
   "outputs": [],
   "source": [
    "#  confusion matrix\n",
    "report_log = classification_report(y_test, pred_log)\n",
    "\n",
    "# Print the report\n",
    "print(report_log)\n",
    "log_accuracy = accuracy_score(y_test, pred_log).round(2)\n",
    "log_precision = precision_score(y_test, pred_log).round(2)\n",
    "log_recall = recall_score(y_test, pred_log).round(2)\n",
    "log_f1 = f1_score(y_test, pred_log).round(2)\n",
    "log_balanced_acc = balanced_accuracy_score(y_test, pred_log). round(2)\n",
    "\n",
    "\n",
    "print(f\"Logistic Lasso Regression model: accuracy: {log_accuracy}, precision: {log_precision}, recall: {log_recall}, f1 score: {log_f1}, balanced accuracy {log_balanced_acc}\")"
   ]
  },
  {
   "cell_type": "code",
   "execution_count": null,
   "id": "f17027f9",
   "metadata": {},
   "outputs": [],
   "source": [
    "#AUC curve\n",
    "from sklearn.metrics import roc_curve, auc\n",
    "\n",
    "# probabilites on test set logisitc\n",
    "log_y_prob = logistic_cv.predict_proba(x_test)[:, 1]\n",
    "log_fpr, log_tpr, log_thresholds = roc_curve(y_test, log_y_prob)\n",
    "log_roc_auc = auc(log_fpr, log_tpr)\n",
    "\n",
    "# decision tree\n",
    "tree_y_prob = tree_cv.predict_proba(x_test)[:, 1]\n",
    "tree_fpr, tree_tpr, tree_thresholds = roc_curve(y_test, tree_y_prob)\n",
    "tree_roc_auc = auc(tree_fpr, tree_tpr)\n",
    "\n",
    "# bagging trees\n",
    "bagging_y_prob = bagging_cv.predict_proba(x_test)[:, 1]\n",
    "bagging_fpr, bagging_tpr, bagging_thresholds = roc_curve(y_test, bagging_y_prob)\n",
    "bagging_roc_auc = auc(bagging_fpr, bagging_tpr)\n",
    "\n",
    "# Boosting trees\n",
    "boosting_y_prob = boosting_tree_cv.predict_proba(x_test)[:, 1]\n",
    "boosting_fpr, boosting_tpr, boosting_thresholds = roc_curve(y_test, boosting_y_prob)\n",
    "boosting_roc_auc = auc(boosting_fpr, boosting_tpr)\n",
    "\n",
    "# Random Forest\n",
    "rf_y_prob = rf_cv.predict_proba(x_test)[:, 1]\n",
    "rf_fpr, rf_tpr, rf_thresholds = roc_curve(y_test, rf_y_prob)\n",
    "rf_roc_auc = auc(rf_fpr, rf_tpr)\n",
    "\n",
    "# SVM\n",
    "svm_y_prob = svm_cv.predict_proba(x_test)[:, 1]\n",
    "svm_fpr, svm_tpr, svm_thresholds = roc_curve(y_test, svm_y_prob)\n",
    "svm_roc_auc = auc(svm_fpr, svm_tpr)\n",
    "\n",
    "print(f\"Logistic AUC: {log_roc_auc.round(2)}\")\n",
    "print(f\"Decision tree AUC: {tree_roc_auc.round(2)}\")\n",
    "print(f\"Bagging Decision tree AUC: {bagging_roc_auc.round(2)}\")\n",
    "print(f\"Boosting Decision tree AUC: {boosting_roc_auc.round(2)}\")\n",
    "print(f\"Random Forest AUC: {rf_roc_auc.round(2)}\")\n",
    "print(f\"SVM AUC: {svm_roc_auc.round(2)}\")"
   ]
  },
  {
   "cell_type": "code",
   "execution_count": null,
   "id": "f29bdb16",
   "metadata": {},
   "outputs": [],
   "source": [
    "# Plot ROC curve\n",
    "plt.figure()\n",
    "plt.plot(log_fpr, log_tpr, color='skyblue', lw=1, label='Logistic ROC curve (area = %0.3f)' % log_roc_auc)\n",
    "plt.plot(tree_fpr, tree_tpr, color='green', lw=1, label='Decision trees ROC curve (area = %0.3f)' % tree_roc_auc)\n",
    "plt.plot(bagging_fpr, bagging_tpr, color='red', lw=1, label='Bagging Decision trees ROC curve (area = %0.3f)' % bagging_roc_auc)\n",
    "plt.plot(boosting_fpr, boosting_tpr, color='orange', lw=1, label='Boosting Decision trees ROC curve (area = %0.3f)' % boosting_roc_auc)\n",
    "plt.plot(rf_fpr, rf_tpr, color='purple', lw=1, label='Random Forest ROC curve (area = %0.3f)' % rf_roc_auc)\n",
    "plt.plot(svm_fpr, svm_tpr, color='gold', lw=1, label='SVM ROC curve (area = %0.3f)' % svm_roc_auc)\n",
    "plt.plot([0, 1], [0, 1], color='navy', lw=2, linestyle='--')\n",
    "plt.xlim([0.0, 1.0])\n",
    "plt.ylim([0.0, 1.05])\n",
    "plt.xlabel('False Positive Rate')\n",
    "plt.ylabel('True Positive Rate')\n",
    "plt.title('Receiver operating characteristic')\n",
    "plt.legend(loc=\"lower right\")\n",
    "plt.show()"
   ]
  },
  {
   "cell_type": "code",
   "execution_count": null,
   "id": "2228b175",
   "metadata": {},
   "outputs": [],
   "source": [
    "# performance metrics table\n",
    "\n",
    "tb = {\n",
    "    'Models'   : ['Boosting Decision tree', 'Random Forest', 'Bagging Decision tree', 'SVM', 'Decision tree', 'KNN', 'Logistic Lasso Regression'],\n",
    "    \"Accuracy\" : [boost_accuracy, rf_accuracy, bag_accuracy, svm_accuracy, t_accuracy, 0.91 ,log_accuracy],\n",
    "    'Precision': [boost_precision, rf_precision, bag_precision, svm_precision, t_precision, 0.94, log_precision],\n",
    "    'Recall'   : [boost_recall,  rf_recall, bag_recall, svm_recall, t_recall, 0.85,log_recall],\n",
    "    'F1 Score' : [boost_f1,  rf_f1, bag_f1, svm_f1, t_f1, 0.89,log_f1],\n",
    "    'Balanced accuracy' : [boost_balanced_acc, rf_balanced_acc, bag_balanced_acc, svm_balanced_acc, t_balanced_acc, 0.91 ,log_balanced_acc]\n",
    "}\n",
    "\n",
    "tb_df = pd.DataFrame(tb)\n",
    "print(tb_df.to_markdown(index = False))"
   ]
  }
 ],
 "metadata": {
  "kernelspec": {
   "display_name": "Python 3 (ipykernel)",
   "language": "python",
   "name": "python3"
  },
  "language_info": {
   "codemirror_mode": {
    "name": "ipython",
    "version": 3
   },
   "file_extension": ".py",
   "mimetype": "text/x-python",
   "name": "python",
   "nbconvert_exporter": "python",
   "pygments_lexer": "ipython3",
   "version": "3.10.9"
  }
 },
 "nbformat": 4,
 "nbformat_minor": 5
}
